{
 "cells": [
  {
   "cell_type": "markdown",
   "id": "57283ce5",
   "metadata": {},
   "source": [
    "### Important Note\n",
    "In the cell below, we simply need to point the TensorBoard to location of the lightning_logs directory created by the PyTorch Lightning framework during model training. So either launch this notebook from the parent directory of lightning_logs, or change \"./lightning_logs\" below to actual absolute or relative path of the directory."
   ]
  },
  {
   "cell_type": "code",
   "execution_count": null,
   "id": "eaffb9cb",
   "metadata": {},
   "outputs": [],
   "source": [
    "%load_ext tensorboard\n",
    "%tensorboard --logdir \"./lightning_logs\""
   ]
  }
 ],
 "metadata": {
  "kernelspec": {
   "display_name": "Python 3",
   "language": "python",
   "name": "python3"
  },
  "language_info": {
   "codemirror_mode": {
    "name": "ipython",
    "version": 3
   },
   "file_extension": ".py",
   "mimetype": "text/x-python",
   "name": "python",
   "nbconvert_exporter": "python",
   "pygments_lexer": "ipython3",
   "version": "3.8.8"
  }
 },
 "nbformat": 4,
 "nbformat_minor": 5
}
