{
 "cells": [
  {
   "cell_type": "code",
   "execution_count": null,
   "metadata": {
    "id": "A9l1EoTnVHZn"
   },
   "outputs": [],
   "source": [
    "!wget http://images.cocodataset.org/zips/train2017.zip\n",
    "!wget http://images.cocodataset.org/annotations/annotations_trainval2017.zip\n",
    "\n",
    "!mkdir coco_data\n",
    "\n",
    "!unzip ./train2017.zip -d ./coco_data/\n",
    "!rm ./train2017.zip\n",
    "\n",
    "!unzip ./annotations_trainval2017.zip -d ./coco_data/\n",
    "!rm ./annotations_trainval2017.zip\n",
    "!rm ./coco_data/annotations/instances_val2017.json\n",
    "!rm ./coco_data/annotations/captions_val2017.json\n",
    "!rm ./coco_data/annotations/person_keypoints_train2017.json\n",
    "!rm ./coco_data/annotations/person_keypoints_val2017.json"
   ]
  },
  {
   "cell_type": "code",
   "execution_count": null,
   "metadata": {
    "colab": {
     "base_uri": "https://localhost:8080/"
    },
    "executionInfo": {
     "elapsed": 295,
     "status": "ok",
     "timestamp": 1634526136580,
     "user": {
      "displayName": "Amit Joglekar",
      "photoUrl": "https://lh3.googleusercontent.com/a/default-user=s64",
      "userId": "13549820997843161316"
     },
     "user_tz": 300
    },
    "id": "vOnxgjt7V6k5",
    "outputId": "1a3f5fd6-e572-4be9-be37-d9c756dfd6fe"
   },
   "outputs": [],
   "source": [
    "!ls ./coco_data"
   ]
  },
  {
   "cell_type": "code",
   "execution_count": null,
   "metadata": {
    "colab": {
     "base_uri": "https://localhost:8080/"
    },
    "executionInfo": {
     "elapsed": 314,
     "status": "ok",
     "timestamp": 1634526146347,
     "user": {
      "displayName": "Amit Joglekar",
      "photoUrl": "https://lh3.googleusercontent.com/a/default-user=s64",
      "userId": "13549820997843161316"
     },
     "user_tz": 300
    },
    "id": "RO-O0sOxWZMW",
    "outputId": "2e4efd49-095d-4368-eaab-b974441f73e7"
   },
   "outputs": [],
   "source": [
    "!ls ./coco_data/annotations"
   ]
  },
  {
   "cell_type": "code",
   "execution_count": null,
   "metadata": {
    "id": "J1y3fI2gWcmh"
   },
   "outputs": [],
   "source": [
    "!ls ./coco_data/train2017"
   ]
  }
 ],
 "metadata": {
  "colab": {
   "authorship_tag": "ABX9TyN0+R/vitlE03LLB2/ME8F5",
   "collapsed_sections": [],
   "name": "cnn_rnn_data_5_classes_limit.ipynb",
   "provenance": [
    {
     "file_id": "1rUkvursmriqJDD2gRco0YI8FHdEYOv7y",
     "timestamp": 1633623448536
    },
    {
     "file_id": "1PF9AunNqWM_WNOgQRcBrSw2ZyElIU2yK",
     "timestamp": 1633387669133
    }
   ]
  },
  "kernelspec": {
   "display_name": "Python 3",
   "language": "python",
   "name": "python3"
  },
  "language_info": {
   "codemirror_mode": {
    "name": "ipython",
    "version": 3
   },
   "file_extension": ".py",
   "mimetype": "text/x-python",
   "name": "python",
   "nbconvert_exporter": "python",
   "pygments_lexer": "ipython3",
   "version": "3.8.8"
  }
 },
 "nbformat": 4,
 "nbformat_minor": 1
}
